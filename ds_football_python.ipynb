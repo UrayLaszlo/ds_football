{
  "cells": [
    {
      "cell_type": "markdown",
      "metadata": {
        "id": "view-in-github",
        "colab_type": "text"
      },
      "source": [
        "<a href=\"https://colab.research.google.com/github/UrayLaszlo/ds_football/blob/master/ds_football_python.ipynb\" target=\"_parent\"><img src=\"https://colab.research.google.com/assets/colab-badge.svg\" alt=\"Open In Colab\"/></a>"
      ]
    },
    {
      "cell_type": "code",
      "source": [
        "pip install nfl_data_py"
      ],
      "metadata": {
        "id": "FVJnQFji-q5A"
      },
      "id": "FVJnQFji-q5A",
      "execution_count": null,
      "outputs": []
    },
    {
      "cell_type": "code",
      "execution_count": 4,
      "id": "9f32efca",
      "metadata": {
        "id": "9f32efca"
      },
      "outputs": [],
      "source": [
        "import pandas as pd\n",
        "import numpy as np\n",
        "import nfl_data_py as nfl\n"
      ]
    },
    {
      "cell_type": "code",
      "execution_count": null,
      "id": "53895613",
      "metadata": {
        "id": "53895613"
      },
      "outputs": [],
      "source": [
        "pbp_py = nfl.import_pbp_data([2021])"
      ]
    },
    {
      "cell_type": "code",
      "execution_count": null,
      "id": "fbba442b",
      "metadata": {
        "id": "fbba442b"
      },
      "outputs": [],
      "source": [
        "filter_crit = 'play_type == \"pass\" & air_yards.notnull()'\n",
        "\n",
        "pbp_py_p = (\n",
        "pbp_py.query(filter_crit)\n",
        "  .groupby([\"passer_id\", \"passer\"]).agg({\"air_yards\": [\"count\", \"mean\"]})\n",
        ")\n",
        "\n",
        "pbp_py_p"
      ]
    },
    {
      "cell_type": "code",
      "execution_count": null,
      "id": "4e852a29",
      "metadata": {
        "id": "4e852a29"
      },
      "outputs": [],
      "source": [
        "pbp_py_p.columns = list(map(\"_\".join, pbp_py_p.columns.values))\n",
        "sort_crit = \"air_yards_count > 100\"\n",
        "print(\n",
        "    pbp_py_p.query(sort_crit).sort_values(by=\"air_yards_mean\",\n",
        "                                        ascending=[False]).to_string()\n",
        ")\n"
      ]
    },
    {
      "cell_type": "code",
      "execution_count": 8,
      "id": "601165a7",
      "metadata": {
        "colab": {
          "base_uri": "https://localhost:8080/"
        },
        "id": "601165a7",
        "outputId": "3366bfe4-cee3-4151-bd4a-827b14312158"
      },
      "outputs": [
        {
          "output_type": "stream",
          "name": "stdout",
          "text": [
            "2020 done.\n",
            "Downcasting floats.\n"
          ]
        }
      ],
      "source": [
        "pbp_py = nfl.import_pbp_data([2020])"
      ]
    },
    {
      "cell_type": "code",
      "execution_count": 12,
      "id": "f427d7c2",
      "metadata": {
        "id": "f427d7c2"
      },
      "outputs": [],
      "source": [
        "# Filter out game data\n",
        "gb_det_2020_py = pbp_py.query(\"home_team == 'GB' & away_team == 'DET'\")\n",
        "\n",
        "# Select pass some pass related columns\n",
        "gb_det_2020_pass_py = gb_det_2020_py[\n",
        "[\"posteam\", \"yards_after_catch\",\n",
        "\"air_yards\", \"pass_location\", \"qb_scramble\"]]\n"
      ]
    },
    {
      "cell_type": "code",
      "execution_count": 13,
      "id": "6d884077",
      "metadata": {
        "colab": {
          "base_uri": "https://localhost:8080/"
        },
        "id": "6d884077",
        "outputId": "a6a0e141-484e-4157-87e8-5281f402dc2e"
      },
      "outputs": [
        {
          "output_type": "stream",
          "name": "stdout",
          "text": [
            "       yards_after_catch  air_yards  qb_scramble\n",
            "count          38.000000  62.000000   181.000000\n",
            "mean            6.263158   8.612904     0.016575\n",
            "std             5.912352  10.938509     0.128025\n",
            "min            -2.000000  -6.000000     0.000000\n",
            "25%             2.250000   1.250000     0.000000\n",
            "50%             4.000000   5.000000     0.000000\n",
            "75%             9.000000  12.750000     0.000000\n",
            "max            20.000000  50.000000     1.000000\n"
          ]
        }
      ],
      "source": [
        "print(gb_det_2020_pass_py.describe())"
      ]
    },
    {
      "cell_type": "code",
      "execution_count": 14,
      "id": "50a65985",
      "metadata": {
        "colab": {
          "base_uri": "https://localhost:8080/"
        },
        "id": "50a65985",
        "outputId": "d28f0df9-5b83-45d1-eb69-8749b8bb8913"
      },
      "outputs": [
        {
          "output_type": "stream",
          "name": "stdout",
          "text": [
            "         air_yards\n",
            "min      -6.000000\n",
            "max      50.000000\n",
            "mean      8.612904\n",
            "median    5.000000\n",
            "std      10.938509\n",
            "var     119.650978\n",
            "count    62.000000\n"
          ]
        }
      ],
      "source": [
        "print(gb_det_2020_pass_py.agg( {\n",
        "\"air_yards\": [\"min\", \"max\", \"mean\", \"median\", \"std\", \"var\", \"count\"]\n",
        "} ))"
      ]
    },
    {
      "cell_type": "code",
      "execution_count": 15,
      "id": "93f727e3",
      "metadata": {
        "colab": {
          "base_uri": "https://localhost:8080/"
        },
        "id": "93f727e3",
        "outputId": "9a36ff24-eb16-41e6-d8bc-1119b426d141"
      },
      "outputs": [
        {
          "output_type": "stream",
          "name": "stdout",
          "text": [
            "        air_yards                                                    \n",
            "              min   max      mean median        std         var count\n",
            "posteam                                                              \n",
            "DET          -6.0  50.0  8.031250    5.0  11.607796  134.740921    32\n",
            "GB           -4.0  34.0  9.233334    5.0  10.338023  106.874733    30\n"
          ]
        }
      ],
      "source": [
        "print(gb_det_2020_pass_py.groupby(\"posteam\").agg(\n",
        "{\n",
        "\"air_yards\": [\"min\", \"max\", \"mean\",\n",
        "\"median\", \"std\", \"var\", \"count\"]\n",
        "    }\n",
        "))"
      ]
    },
    {
      "cell_type": "code",
      "execution_count": 16,
      "id": "243645d0",
      "metadata": {
        "colab": {
          "base_uri": "https://localhost:8080/"
        },
        "id": "243645d0",
        "outputId": "8733d1d7-8dae-4ff8-d7fa-e98aec5516bf"
      },
      "outputs": [
        {
          "output_type": "stream",
          "name": "stdout",
          "text": [
            "        yards_after_catch                                                    \\\n",
            "                      min   max      mean median       std        var count   \n",
            "posteam                                                                       \n",
            "DET                   0.0  20.0  6.900000    4.0  6.051533  36.621052    20   \n",
            "GB                   -2.0  19.0  5.555555    4.5  5.843269  34.143791    18   \n",
            "\n",
            "        air_yards                                                      \n",
            "              min   max      mean median        std         var count  \n",
            "posteam                                                                \n",
            "DET          -6.0  50.0  8.031250    5.0  11.607796  134.740921    32  \n",
            "GB           -4.0  34.0  9.233334    5.0  10.338023  106.874733    30  \n"
          ]
        }
      ],
      "source": [
        "print(gb_det_2020_pass_py.groupby(\"posteam\").agg( {\n",
        "\"yards_after_catch\": [\"min\", \"max\", \"mean\",\n",
        "\"median\", \"std\", \"var\", \"count\"],\n",
        "\"air_yards\": [\"min\", \"max\", \"mean\",\n",
        "\"median\", \"std\", \"var\", \"count\"]\n",
        "    }\n",
        "))"
      ]
    },
    {
      "cell_type": "code",
      "execution_count": null,
      "id": "010af6b9",
      "metadata": {
        "id": "010af6b9"
      },
      "outputs": [],
      "source": []
    },
    {
      "cell_type": "code",
      "execution_count": null,
      "id": "21daf03c",
      "metadata": {
        "id": "21daf03c"
      },
      "outputs": [],
      "source": []
    },
    {
      "cell_type": "code",
      "execution_count": null,
      "id": "2a9b2899",
      "metadata": {
        "id": "2a9b2899"
      },
      "outputs": [],
      "source": []
    }
  ],
  "metadata": {
    "kernelspec": {
      "display_name": "Python 3 (ipykernel)",
      "language": "python",
      "name": "python3"
    },
    "language_info": {
      "codemirror_mode": {
        "name": "ipython",
        "version": 3
      },
      "file_extension": ".py",
      "mimetype": "text/x-python",
      "name": "python",
      "nbconvert_exporter": "python",
      "pygments_lexer": "ipython3",
      "version": "3.9.13"
    },
    "colab": {
      "provenance": [],
      "include_colab_link": true
    }
  },
  "nbformat": 4,
  "nbformat_minor": 5
}